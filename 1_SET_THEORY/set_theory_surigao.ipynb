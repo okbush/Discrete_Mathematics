{
 "cells": [
  {
   "cell_type": "markdown",
   "id": "349e5666-a239-491a-af38-be38c3a93b5c",
   "metadata": {},
   "source": [
    "# 1. Proving Identities"
   ]
  },
  {
   "cell_type": "markdown",
   "id": "ffa47e9d-adea-4a58-8fb9-ef72bb70a865",
   "metadata": {},
   "source": [
    "### A\\B = A  $\\cap$ $B^c$\r\n",
    "Let x $\\in$ A\\B\\\r\n",
    "x $\\in$ A and x $\\notin$ B\\\r\n",
    "x $\\in$ A and x $\\in$ $B^C$\\\r\n",
    "x $\\in$ A $\\cap$ $B^C$\\\r\n",
    "A\\B $\\subseteq$ A $\\cap$ $B^C$ **or** A\\B = A $\\cap$ B^C$\r\n"
   ]
  },
  {
   "cell_type": "code",
   "execution_count": 17,
   "id": "42cc5c35-d4c0-47ca-9924-bac313694a2d",
   "metadata": {},
   "outputs": [
    {
     "name": "stdout",
     "output_type": "stream",
     "text": [
      "{2}\n",
      "A ∩ ~B is {2}\n",
      "{2} = {2}\n"
     ]
    }
   ],
   "source": [
    "A = {1, 2}\n",
    "B = {1}\n",
    "U = A.union(B)\n",
    "print(A-B)\n",
    "print('A ∩ ~B is', A&(U-B))\n",
    "print(A-B, '=', A&(U-B) )"
   ]
  },
  {
   "cell_type": "markdown",
   "id": "07923481-3c10-4b7d-ae5c-66d0f6b4506f",
   "metadata": {},
   "source": [
    "### B = (B $\\cap$ A) $\\cup$ (B $\\cap$ $A^c$)\n",
    "Let x $\\in$ (B $\\cap$ A) $\\cup$ (B $\\cap$ $A^C$)\\\n",
    "*Using distribution law*\\\n",
    "    x $\\in$ (B $\\cup$ (A $\\cap$ $A^C$)) $\\cap$ (B $\\cup$ ($A^C$ $\\cap$ A))\\\n",
    "    x $\\in$ (B $\\cap$ U) $\\cup$ (B $\\cap$ U)\\\n",
    "    x $\\in$ B $\\cup$ B\\\n",
    "    x $\\in$ B\\\n",
    "    B = (B $\\cap$ A) $\\cup$ (B $\\cap$ $A^C$)"
   ]
  },
  {
   "cell_type": "code",
   "execution_count": 18,
   "id": "b019b465-4832-4a4a-96e1-5753d97fc2c2",
   "metadata": {
    "scrolled": true
   },
   "outputs": [
    {
     "name": "stdout",
     "output_type": "stream",
     "text": [
      "A = {1, 3}\n",
      "B = {1, 2}\n",
      "A ∩ B is {1}\n",
      "B ∩ ~A {2}\n",
      "{1, 2}\n",
      "{1, 2} = {1, 2}\n"
     ]
    }
   ],
   "source": [
    "B = {1, 2}\n",
    "A = {1, 3}\n",
    "U = A.union(B)\n",
    "print('A =',A)\n",
    "print('B =',B)\n",
    "print('A ∩ B is', A&B)\n",
    "print('B ∩ ~A', B&(U-A))\n",
    "print((A&B).union(B&(U-A)))\n",
    "print(B, '=', (A&B).union(B&(U-A)) )"
   ]
  },
  {
   "cell_type": "markdown",
   "id": "17d18dd2-1677-40b1-8d48-fc0f21ebde5d",
   "metadata": {},
   "source": [
    "### B\\A = B $\\cap A^c$\r\n",
    "Let x $\\in$ B\\A\\\r\n",
    "x $\\in$ B and x $\\notin$ A\\\r\n",
    "x $\\in$ B and x $\\in$ $A^C$\\\r\n",
    "x $\\in$ B $\\cap$ $A^C$\\\r\n",
    "B\\A $\\subseteq$ B $\\cap$ $A^C$ **or** B\\A = B $\\cap$ $A^C$"
   ]
  },
  {
   "cell_type": "code",
   "execution_count": 19,
   "id": "e6c28d03-89c4-45e1-968f-759db1d4be44",
   "metadata": {},
   "outputs": [
    {
     "name": "stdout",
     "output_type": "stream",
     "text": [
      "B \\ A = {2}\n",
      "B ∩ ~A = {2}\n",
      "{2} = {2}\n"
     ]
    }
   ],
   "source": [
    "B = {1, 2}\n",
    "A = {1, 3}\n",
    "U = A.union(B)\n",
    "\n",
    "print('B \\ A =', B-A)\n",
    "print('B ∩ ~A =', B&(U-A))\n",
    "print(B-A, '=', B&(U-A))"
   ]
  },
  {
   "cell_type": "markdown",
   "id": "0ff2084b-03bd-418c-a0ef-e63bef7205b4",
   "metadata": {},
   "source": [
    "### A $\\cup$ B = A $\\cup$ (B $\\cap$ $A^c$)\r\n",
    "A  = {1, 2} <br>\r\n",
    "B  = {1, 3} <br>\r\n",
    "U = A $\\cup$ B <br><br>\r\n",
    "\r\n",
    "Proof: <br>\r\n",
    "A $\\cup$ B $\\subseteq$ U"
   ]
  },
  {
   "cell_type": "code",
   "execution_count": 15,
   "id": "7b47a542-4c98-4da7-bb6e-0e8fa8e00f2d",
   "metadata": {},
   "outputs": [
    {
     "name": "stdout",
     "output_type": "stream",
     "text": [
      "\n",
      "A ∪ B = {1, 2, 3}\n",
      "{1, 3}\n",
      "{2}\n",
      "Set A ∪ with Set B ∩ ~A {1, 2, 3}\n",
      "{1, 2, 3} = {1, 2, 3}\n"
     ]
    }
   ],
   "source": [
    "B = {1, 2}\n",
    "A = {1, 3}\n",
    "U = A.union(B)\n",
    "print('')\n",
    "\n",
    "print('A ∪ B =',A.union(B))\n",
    "print(A)\n",
    "print(B&(U-A))\n",
    "print('Set A ∪ with Set B ∩ ~A',A.union(B&(U-A)))\n",
    "print(A.union(B), '=', A.union(B&(U-A)))"
   ]
  },
  {
   "cell_type": "markdown",
   "id": "cc6dbcb8-2d1c-43cf-8418-2bd1b324330a",
   "metadata": {},
   "source": [
    "### $(U^\\infty _{i=1} A^c_i)^c$\\ = $\\cap^\\infty _{i=1}$  $A^c_i$"
   ]
  },
  {
   "cell_type": "markdown",
   "id": "8bdfd207-167d-4a0d-aaee-033b6fc30cc9",
   "metadata": {},
   "source": [
    " $\\bigcap$ $ _{i=1}^{\\infty} A_{i}$ = $\\bigcap$ $ _{i=1}^{\\infty} A_{i}$ $\\therefore$ $(\\bigcup$ $ _{i=1}^{\\infty} A_{i}^{c})^{c}$ = $\\cap_{i=1}^{\\infty}A_{i}$ is true.\n",
    "***"
   ]
  },
  {
   "cell_type": "markdown",
   "id": "134b9d8d-7b32-4982-9379-5f8f83dde13a",
   "metadata": {},
   "source": [
    "### |A $\\cup$ B| = |A|+|B| - |A $\\cap$ B|"
   ]
  },
  {
   "cell_type": "code",
   "execution_count": 13,
   "id": "b03483e7-cfa7-4549-ac23-79483effb538",
   "metadata": {},
   "outputs": [
    {
     "name": "stdout",
     "output_type": "stream",
     "text": [
      "|A U B| = 3\n",
      "2 + 2 = 4\n",
      "|A ∩ B| = 1\n",
      "4 - 1 = 3\n",
      "3 = 3\n"
     ]
    }
   ],
   "source": [
    "B = {1, 2}\n",
    "A = {1, 3}\n",
    "U = A.union(B)\n",
    "print('|A U B| =', len(U))\n",
    "print(len(A), '+', len(B), '=', len(A)+len(B))\n",
    "print('|A ∩ B| =', len(A&B))\n",
    "print(len(A)+len(B), '-', len(A&B), '=', len(A)+len(B)-len(A&B))\n",
    "print(len(U), '=', len(A)+len(B)-len(A&B))"
   ]
  },
  {
   "cell_type": "markdown",
   "id": "8fdaa0c6-7e1c-46f6-8d08-b9627c32a448",
   "metadata": {},
   "source": [
    "# 2. Sets and Subsets"
   ]
  },
  {
   "cell_type": "markdown",
   "id": "6d44369c-dea7-4d82-9eb6-26b20e88ec15",
   "metadata": {},
   "source": [
    "$ If A = \\{2,3,4,5\\}, and B = \\{x \\in \\mathbb{N} | \\lor \\text{is  even}\\}. Is A \\subset B? $\n",
    "\n",
    "No, A is not a subset of B. To make this statement true, all elements of A must be a subset of B. However, in this case, not all elements of A are even numbers that constitute B.\n",
    "\n",
    "\n",
    "Let sets $A = \\{x|x \\in \\mathbb{Z}, 0 \\leq x \\leq 9\\}, B = \\{2,4,6,8\\}, \\ and \\ C = \\{1,3,5,7,9\\} \\ and \\ D = \\{3,4,5\\}$\n",
    "\n",
    "\n",
    "Find a set X which will satisfy the following conditions:\n",
    "\n",
    "$ 1. \\textbf{X} \\ and \\ \\textbf{B} \\ are \\ disjoint$\n",
    "\n",
    "$ X = \\{1,3,5,7,9\\} $\n",
    "\n",
    "\n",
    "$ 2. \\textbf{X} \\subseteq \\textbf{D} but \\textbf{X} \\nsubseteq \\textbf{B} $\n",
    "\n",
    "\n",
    "$X = \\{3,5\\}$\n",
    "\n",
    "\n",
    "$ 3.  \\textbf{X} \\subseteq \\textbf{A}  \\textbf{X} \\not\\subset \\textbf{C}$\n",
    "\n",
    "$X=\\{2,4,6,8\\}$\n",
    "\r\n",
    "\n",
    "\n"
   ]
  },
  {
   "cell_type": "markdown",
   "id": "87fc818f-2974-4e10-8321-469a49f1ba82",
   "metadata": {},
   "source": [
    "# 3. Set Operations"
   ]
  },
  {
   "cell_type": "markdown",
   "id": "5f33d8c1-72d6-4732-833b-a48a0153f5fb",
   "metadata": {},
   "source": [
    "#### Given:\n",
    "\n",
    "U={1,2,3,4,5}\n",
    "\n",
    "A={1,2,3,4,5}\n",
    "\n",
    "B={4,5,6,7}\n",
    "\n",
    "C={5,6,7,8,9}\n",
    "\n",
    "D={1,3,5,7,9}\n",
    "\n",
    "E={2,4,6,8}\n",
    "\n",
    "F={1,5,9}"
   ]
  },
  {
   "cell_type": "markdown",
   "id": "dd5d5427-6510-4437-834d-01f7a57d115b",
   "metadata": {},
   "source": [
    "### $ C \\oplus D $\n",
    "$ C \\oplus D = (C \\setminus D) \\cup (D \\setminus C) $ <br>\n",
    "$ C \\oplus D = (\\{5,6,7,8,9\\} \\setminus \\{1,3,5,7,9\\}) \\cup (\\{1,3,5,7,9\\} \\setminus \\{5,6,7,8,9\\}) $ <br>\n",
    "$ C \\oplus D = (\\{1,3,6,8\\}) $"
   ]
  },
  {
   "cell_type": "code",
   "execution_count": 19,
   "id": "cab55a7b-bd37-4ed5-81dd-0b3120424bc8",
   "metadata": {},
   "outputs": [
    {
     "name": "stdout",
     "output_type": "stream",
     "text": [
      "{1, 3, 6, 8}\n"
     ]
    }
   ],
   "source": [
    "C={5,6,7,8,9}\n",
    "D={1,3,5,7,9}\n",
    "print(C^D)"
   ]
  },
  {
   "cell_type": "markdown",
   "id": "4534a4f4-8474-4c7b-b25e-66cab5071987",
   "metadata": {},
   "source": [
    "### $ A \\setminus B $\n",
    "\n",
    "$ A \\setminus B = \\{1,2,3,4,5\\} \\setminus\\{4,5,6,7\\} $ <br>\n",
    "$ A \\setminus B = \\{1,2,3\\} $ "
   ]
  },
  {
   "cell_type": "code",
   "execution_count": 21,
   "id": "47fc9e45-9df5-4968-8ee2-26f92b011172",
   "metadata": {},
   "outputs": [
    {
     "name": "stdout",
     "output_type": "stream",
     "text": [
      "{1, 2, 3}\n"
     ]
    }
   ],
   "source": [
    "A={1,2,3,4,5}\n",
    "B={4,5,6,7}\n",
    "print(A - B)"
   ]
  },
  {
   "cell_type": "markdown",
   "id": "289ba982-7fb9-4481-863a-3bfc2b16f4d1",
   "metadata": {},
   "source": [
    "### $ B \\setminus A $\n",
    "\n",
    "$ B \\setminus A = \\{4,5,6,7\\} \\setminus \\{1,2,3,4,5\\} $ <br>\n",
    "$ B \\setminus A = \\{6,7\\} $"
   ]
  },
  {
   "cell_type": "code",
   "execution_count": 23,
   "id": "654478c9-dff9-4d91-9e3c-9da2a140f481",
   "metadata": {},
   "outputs": [
    {
     "name": "stdout",
     "output_type": "stream",
     "text": [
      "{6, 7}\n"
     ]
    }
   ],
   "source": [
    "A={1,2,3,4,5}\n",
    "B={4,5,6,7}\n",
    "print(B-A)"
   ]
  },
  {
   "cell_type": "markdown",
   "id": "e4ee0427-cdc5-446f-a851-92f5cbca5296",
   "metadata": {},
   "source": [
    "### $ E \\oplus F $\n",
    "\n",
    "$ E \\oplus F = (E \\setminus F) \\cup (F \\setminus E) $ <br>\n",
    "$ E \\oplus F = ({2,4,6,8} \\setminus \\{1,5,9\\}) \\cup (\\{1,5,9\\} \\setminus \\{2,4,6,8\\}) $ <br>\n",
    "$ E \\oplus F = \\{1,2,4,5,6,8,9\\} $ "
   ]
  },
  {
   "cell_type": "code",
   "execution_count": 24,
   "id": "33cfba3e-9314-4e75-a8c6-cb9337c9cc30",
   "metadata": {},
   "outputs": [
    {
     "name": "stdout",
     "output_type": "stream",
     "text": [
      "{1, 2, 4, 5, 6, 8, 9}\n"
     ]
    }
   ],
   "source": [
    "E={2,4,6,8}\n",
    "F={1,5,9}\n",
    "print(E^F)"
   ]
  },
  {
   "cell_type": "markdown",
   "id": "8a585536-7903-43dd-9244-acbc5ce2fbfa",
   "metadata": {},
   "source": [
    "# 4. Finite Sets and The Counting Principles"
   ]
  },
  {
   "cell_type": "markdown",
   "id": "a4bb6541-c6ce-49ba-b0c6-7c7c008972d4",
   "metadata": {},
   "source": [
    "### Venn Diagram"
   ]
  },
  {
   "cell_type": "code",
   "execution_count": 9,
   "id": "d4d5e0ad-a3bc-4cd5-beee-aef9082a627d",
   "metadata": {
    "scrolled": true
   },
   "outputs": [
    {
     "data": {
      "image/png": "[encoded data removed]",
      "text/plain": [
       "<Figure size 640x480 with 1 Axes>"
      ]
     },
     "metadata": {},
     "output_type": "display_data"
    }
   ],
   "source": [
    "import matplotlib.pyplot as plt\n",
    "from matplotlib_venn import venn3\n",
    "\n",
    "venn3(subsets = (65, 45, 20, 42, 25, 15, 8), set_labels = ('Newsweek', 'Times','Fortune'))\n",
    "plt.show()"
   ]
  },
  {
   "cell_type": "markdown",
   "id": "d49855cd-9169-471c-bded-918b857bcc5f",
   "metadata": {},
   "source": [
    "### Given\n",
    "\n",
    "Let N represent the number of people who read newsweek magazine, T represent the number of people who read times magazine, and F represent the number of people who read fortune magazine\n",
    "\n",
    "$ |N| = 65 $\n",
    "\n",
    "$ |T| = 45$\n",
    "\n",
    "$ |F| = 42 $\n",
    "\n",
    "$ |N \\cap T| = 20$\n",
    "\n",
    "$ |N \\cap F| = 25$\n",
    "\n",
    "$ |T \\cap F| = 15$\n",
    "\n",
    "$ |N \\cap T \\cap F| = 8 $\n",
    "\n",
    "*venn diagram attached to bottom*\n",
    "\n",
    "### Number of people who read at \"least one\" of the three magazines\n",
    "\n",
    "$ |N \\cup T \\cup F| = |N| + |T| + |F| - |N \\cap T| - |N \\cap F| - |T \\cap F| + |N \\cap T \\cap F|$ \n",
    "\n",
    "$ |N \\cup T \\cup F| = 65 + 45 + 42 - 20 - 25 - 15 + 8 $\n",
    "\n",
    "$ |N \\cup T \\cup F| = 100 $\n",
    "\n",
    "\n",
    "\n",
    "### Number of people who read exactly one magazine\r\n",
    "$ F = |F|- |F \\cap N| - |F \\cap T| + |N \\cap T \\cap F| $\n",
    "\n",
    "$ F = 42 - 25 - 15 + 8 = 10 $\n",
    "\n",
    "$ F = 10 $\n",
    "\n",
    "\n",
    "$ N = |N|- |N \\cap F| - |N \\cap T| + |N \\cap T \\cap F| $\n",
    "\n",
    "$ N = 65- 25 - 20 + 8 $\n",
    "\n",
    "$ N = 28 $\n",
    "\n",
    "\n",
    "$ T = |T|- |T \\cap F| - |T \\cap N| + |N \\cap T \\cap F| $\n",
    "$$ T = 45 - 15 - 20 + 8 $\n",
    "\n",
    "$ T = 18 $\n",
    "\n",
    "Number of people who read exactly one magazine = $ 10 + 28 + 18 = \\textbf{56} $\n"
   ]
  },
  {
   "cell_type": "markdown",
   "id": "650e05f8-cb49-49f9-a866-34aa72d7d007",
   "metadata": {},
   "source": [
    "### Venn Diagram"
   ]
  },
  {
   "cell_type": "code",
   "execution_count": 10,
   "id": "c7a92148-a553-4bd9-b1c9-dae7503823d6",
   "metadata": {},
   "outputs": [
    {
     "data": {
      "image/png": "[encoded data removed]",
      "text/plain": [
       "<Figure size 640x480 with 1 Axes>"
      ]
     },
     "metadata": {},
     "output_type": "display_data"
    }
   ],
   "source": [
    "venn3(subsets = (15, 12, 9, 11, 5, 4, 3), set_labels = ('Air-conditioning', 'Radio', 'Power Window'))\n",
    "plt.show()"
   ]
  },
  {
   "cell_type": "markdown",
   "id": "b369f5df-4ea3-4036-9d29-258ef3cb5bce",
   "metadata": {
    "scrolled": true
   },
   "source": [
    "### Given:\n",
    "\n",
    "Let A represent Air-conditioning, R represent Radio, and W represent Power windows\n",
    "\n",
    "$|A|=15$\n",
    "\n",
    "$|R|=12$\n",
    "\n",
    "$|W|=11$\n",
    "\n",
    "$|A \\cap W| = 5$\r\n",
    "\n",
    "$|A \\cap R| = 9$\n",
    "\n",
    "$|R \\cap W| = 4$\n",
    "\n",
    "$|A \\cap W \\cap R| = 3$\n",
    "\n",
    "\n",
    "### Number of cars with W only\n",
    "\n",
    "W \\_only = $ |W| - |W \\cap A| - |W \\cap R| + |W \\cap R \\cap A| $\n",
    "\n",
    "W \\_only = $ 11 - 5 - 4 + 3 $\n",
    "\n",
    "W \\_only = $ 5 $\n",
    "\n",
    "\n",
    "### Number of cars with A only\n",
    "\n",
    "A \\_only = $ |A| - |W \\cap A| - |A \\cap R| + |W \\cap R \\cap A| $\n",
    "\n",
    "A \\_only = $ 15 - 5 - 9 + 3 $\n",
    "\n",
    "A \\_only = $ 4 $\n",
    "\n",
    "\n",
    "### Number of cars with R only\n",
    "\n",
    "R \\_only = $ |R| - |R \\cap A| - |R \\cap W| + |W \\cap R \\cap A| $\n",
    "\n",
    "R \\_only = $ 12 - 9 - 4 + 3 $\n",
    "\n",
    "R \\_only = $ 2 $\n",
    "\n",
    "\n",
    "### Number of cars with both R and W but not A\n",
    "\n",
    "$ |W \\cap R| - |W \\cap R \\cap A|$\n",
    "\n",
    "$ 4 - 3 = 1 $\n",
    "\n",
    "\n",
    "### Number of cars with both A and R but not W\n",
    "\n",
    "$ |A \\cap R| - |W \\cap R \\cap A|$\n",
    "\n",
    "$ 9 - 3 = 6 $\n",
    "\n",
    "\n",
    "### Number of cars with only one of the option\n",
    "\n",
    "|A\\_only| + |W\\_only| + |R\\_only|\n",
    "\n",
    "$ 5 + 4 + 2 = 11 $\n",
    "\n",
    "\n",
    "### Number of cars with at least one option\n",
    "\n",
    "$ |A \\cup W \\cup R| = |A| + |R|+  |W| - |A \\cap W| - |A \\cap R| - |W \\cap R| + |A \\cap W \\cap R| $\n",
    "\n",
    "$ |A \\cup W \\cup R| = 15 + 11 + 12 - 5 - 9 - 4 + 3 $\n",
    "\n",
    "$ |A \\cup W \\cup R| = 23 $\n",
    "\n",
    "\n",
    "### Number of cars with none of the options\n",
    "\n",
    "$ |U| - |A \\cap R \\cap W|$\n",
    "\n",
    "25 - 23 = 2\n",
    "\n",
    "$$"
   ]
  },
  {
   "cell_type": "code",
   "execution_count": null,
   "id": "c74b4ae7-f01a-4a39-aadb-406d72ba5eb6",
   "metadata": {},
   "outputs": [],
   "source": []
  }
 ],
 "metadata": {
  "kernelspec": {
   "display_name": "Python 3 (ipykernel)",
   "language": "python",
   "name": "python3"
  },
  "language_info": {
   "codemirror_mode": {
    "name": "ipython",
    "version": 3
   },
   "file_extension": ".py",
   "mimetype": "text/x-python",
   "name": "python",
   "nbconvert_exporter": "python",
   "pygments_lexer": "ipython3",
   "version": "3.11.5"
  }
 },
 "nbformat": 4,
 "nbformat_minor": 5
}
